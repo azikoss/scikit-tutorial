{
 "cells": [
  {
   "cell_type": "markdown",
   "metadata": {
    "run_control": {
     "frozen": false,
     "read_only": false
    }
   },
   "source": [
    "# Introduction to Python&Scikit \n",
    "\n",
    "\n",
    "\n",
    "Agenda:\n",
    "* Loading datasets\n",
    "* Splitting dataset\n",
    "* Preprocessing\n",
    "    * Encoding variables into \n",
    "    * Intro to Estimators interface\n",
    "    * Feature scalling\n",
    "* Support Vector Machines (SVMs)\n",
    "    * Intro & Application to SVMs\n",
    "    * Plotting\n",
    "* Model Evaluation\n",
    "    * Evaluation metrics\n",
    "    * Naive evaluation\n",
    "    * K-fold evaluation with hyperparameter grid search\n",
    "\n",
    "\n",
    "A few words before starting:\n",
    "* I am not an expert in the topic (disclaimer).\n",
    "* Thanks to Dimis for advices during the preparation.\n",
    "* Feel free to interact and share your opinion. \n",
    "* If get stucked somewhere, ask! If I cannot help, just listen and I will help you after the class.\n",
    "\n",
    "Author: Adam Zika, JADS\n",
    "\n",
    "Date: 17/3/2017\n",
    "\n"
   ]
  },
  {
   "cell_type": "code",
   "execution_count": 2,
   "metadata": {
    "ExecuteTime": {
     "end_time": "2017-03-17T10:26:33.543021",
     "start_time": "2017-03-17T10:26:33.531990"
    },
    "code_folding": [
     0
    ],
    "collapsed": false,
    "run_control": {
     "frozen": false,
     "read_only": false
    }
   },
   "outputs": [
    {
     "data": {
      "text/html": [
       "<!-- aligning all picture to the left -->\n",
       "<style>\n",
       " .rendered_html img {margin: 0px;}\n",
       "</style>"
      ],
      "text/plain": [
       "<IPython.core.display.HTML object>"
      ]
     },
     "metadata": {},
     "output_type": "display_data"
    }
   ],
   "source": [
    "%%html\n",
    "<!-- aligning all picture to the left -->\n",
    "<style>\n",
    " .rendered_html img {margin: 0px;}\n",
    "</style>"
   ]
  },
  {
   "cell_type": "markdown",
   "metadata": {
    "run_control": {
     "frozen": false,
     "read_only": false
    }
   },
   "source": [
    "# Data loading\n",
    "* Scikit provides several \"traditional\" datasets such as iris, digits, and boston. There is a dataset for each type of a machine learning problem.\n",
    "* Data can be loaded manually."
   ]
  },
  {
   "cell_type": "code",
   "execution_count": 3,
   "metadata": {
    "ExecuteTime": {
     "end_time": "2017-03-17T10:27:43.383515",
     "start_time": "2017-03-17T10:27:41.727834"
    },
    "collapsed": false,
    "run_control": {
     "frozen": false,
     "read_only": false
    }
   },
   "outputs": [
    {
     "name": "stdout",
     "output_type": "stream",
     "text": [
      "dict_keys(['data', 'DESCR', 'feature_names', 'target', 'target_names'])\n"
     ]
    }
   ],
   "source": [
    "# loading data using scikit learn\n",
    "from sklearn.datasets import load_iris\n",
    "data = load_iris()\n",
    "print(data.keys())"
   ]
  },
  {
   "cell_type": "code",
   "execution_count": 4,
   "metadata": {
    "ExecuteTime": {
     "end_time": "2017-03-17T10:29:44.268414",
     "start_time": "2017-03-17T10:29:43.026498"
    },
    "collapsed": false,
    "run_control": {
     "frozen": false,
     "read_only": false
    },
    "scrolled": true
   },
   "outputs": [
    {
     "data": {
      "text/html": [
       "<div>\n",
       "<table border=\"1\" class=\"dataframe\">\n",
       "  <thead>\n",
       "    <tr style=\"text-align: right;\">\n",
       "      <th></th>\n",
       "      <th>sep_len</th>\n",
       "      <th>sep_width</th>\n",
       "      <th>y</th>\n",
       "    </tr>\n",
       "  </thead>\n",
       "  <tbody>\n",
       "    <tr>\n",
       "      <th>0</th>\n",
       "      <td>5.1</td>\n",
       "      <td>3.5</td>\n",
       "      <td>Iris-setosa</td>\n",
       "    </tr>\n",
       "    <tr>\n",
       "      <th>1</th>\n",
       "      <td>4.9</td>\n",
       "      <td>3.0</td>\n",
       "      <td>Iris-setosa</td>\n",
       "    </tr>\n",
       "    <tr>\n",
       "      <th>2</th>\n",
       "      <td>4.7</td>\n",
       "      <td>3.2</td>\n",
       "      <td>Iris-setosa</td>\n",
       "    </tr>\n",
       "    <tr>\n",
       "      <th>3</th>\n",
       "      <td>4.6</td>\n",
       "      <td>3.1</td>\n",
       "      <td>Iris-setosa</td>\n",
       "    </tr>\n",
       "    <tr>\n",
       "      <th>4</th>\n",
       "      <td>5.0</td>\n",
       "      <td>3.6</td>\n",
       "      <td>Iris-setosa</td>\n",
       "    </tr>\n",
       "    <tr>\n",
       "      <th>5</th>\n",
       "      <td>5.4</td>\n",
       "      <td>3.9</td>\n",
       "      <td>Iris-setosa</td>\n",
       "    </tr>\n",
       "    <tr>\n",
       "      <th>6</th>\n",
       "      <td>4.6</td>\n",
       "      <td>3.4</td>\n",
       "      <td>Iris-setosa</td>\n",
       "    </tr>\n",
       "    <tr>\n",
       "      <th>7</th>\n",
       "      <td>5.0</td>\n",
       "      <td>3.4</td>\n",
       "      <td>Iris-setosa</td>\n",
       "    </tr>\n",
       "    <tr>\n",
       "      <th>8</th>\n",
       "      <td>4.4</td>\n",
       "      <td>2.9</td>\n",
       "      <td>Iris-setosa</td>\n",
       "    </tr>\n",
       "    <tr>\n",
       "      <th>9</th>\n",
       "      <td>4.9</td>\n",
       "      <td>3.1</td>\n",
       "      <td>Iris-setosa</td>\n",
       "    </tr>\n",
       "    <tr>\n",
       "      <th>10</th>\n",
       "      <td>5.4</td>\n",
       "      <td>3.7</td>\n",
       "      <td>Iris-setosa</td>\n",
       "    </tr>\n",
       "    <tr>\n",
       "      <th>11</th>\n",
       "      <td>4.8</td>\n",
       "      <td>3.4</td>\n",
       "      <td>Iris-setosa</td>\n",
       "    </tr>\n",
       "    <tr>\n",
       "      <th>12</th>\n",
       "      <td>4.8</td>\n",
       "      <td>3.0</td>\n",
       "      <td>Iris-setosa</td>\n",
       "    </tr>\n",
       "    <tr>\n",
       "      <th>13</th>\n",
       "      <td>4.3</td>\n",
       "      <td>3.0</td>\n",
       "      <td>Iris-setosa</td>\n",
       "    </tr>\n",
       "    <tr>\n",
       "      <th>14</th>\n",
       "      <td>5.8</td>\n",
       "      <td>4.0</td>\n",
       "      <td>Iris-setosa</td>\n",
       "    </tr>\n",
       "    <tr>\n",
       "      <th>15</th>\n",
       "      <td>5.7</td>\n",
       "      <td>4.4</td>\n",
       "      <td>Iris-setosa</td>\n",
       "    </tr>\n",
       "    <tr>\n",
       "      <th>16</th>\n",
       "      <td>5.4</td>\n",
       "      <td>3.9</td>\n",
       "      <td>Iris-setosa</td>\n",
       "    </tr>\n",
       "    <tr>\n",
       "      <th>17</th>\n",
       "      <td>5.1</td>\n",
       "      <td>3.5</td>\n",
       "      <td>Iris-setosa</td>\n",
       "    </tr>\n",
       "    <tr>\n",
       "      <th>18</th>\n",
       "      <td>5.7</td>\n",
       "      <td>3.8</td>\n",
       "      <td>Iris-setosa</td>\n",
       "    </tr>\n",
       "    <tr>\n",
       "      <th>19</th>\n",
       "      <td>5.1</td>\n",
       "      <td>3.8</td>\n",
       "      <td>Iris-setosa</td>\n",
       "    </tr>\n",
       "    <tr>\n",
       "      <th>20</th>\n",
       "      <td>5.4</td>\n",
       "      <td>3.4</td>\n",
       "      <td>Iris-setosa</td>\n",
       "    </tr>\n",
       "    <tr>\n",
       "      <th>21</th>\n",
       "      <td>5.1</td>\n",
       "      <td>3.7</td>\n",
       "      <td>Iris-setosa</td>\n",
       "    </tr>\n",
       "    <tr>\n",
       "      <th>22</th>\n",
       "      <td>4.6</td>\n",
       "      <td>3.6</td>\n",
       "      <td>Iris-setosa</td>\n",
       "    </tr>\n",
       "    <tr>\n",
       "      <th>23</th>\n",
       "      <td>5.1</td>\n",
       "      <td>3.3</td>\n",
       "      <td>Iris-setosa</td>\n",
       "    </tr>\n",
       "    <tr>\n",
       "      <th>24</th>\n",
       "      <td>4.8</td>\n",
       "      <td>3.4</td>\n",
       "      <td>Iris-setosa</td>\n",
       "    </tr>\n",
       "    <tr>\n",
       "      <th>25</th>\n",
       "      <td>5.0</td>\n",
       "      <td>3.0</td>\n",
       "      <td>Iris-setosa</td>\n",
       "    </tr>\n",
       "    <tr>\n",
       "      <th>26</th>\n",
       "      <td>5.0</td>\n",
       "      <td>3.4</td>\n",
       "      <td>Iris-setosa</td>\n",
       "    </tr>\n",
       "    <tr>\n",
       "      <th>27</th>\n",
       "      <td>5.2</td>\n",
       "      <td>3.5</td>\n",
       "      <td>Iris-setosa</td>\n",
       "    </tr>\n",
       "    <tr>\n",
       "      <th>28</th>\n",
       "      <td>5.2</td>\n",
       "      <td>3.4</td>\n",
       "      <td>Iris-setosa</td>\n",
       "    </tr>\n",
       "    <tr>\n",
       "      <th>29</th>\n",
       "      <td>4.7</td>\n",
       "      <td>3.2</td>\n",
       "      <td>Iris-setosa</td>\n",
       "    </tr>\n",
       "    <tr>\n",
       "      <th>...</th>\n",
       "      <td>...</td>\n",
       "      <td>...</td>\n",
       "      <td>...</td>\n",
       "    </tr>\n",
       "    <tr>\n",
       "      <th>120</th>\n",
       "      <td>6.9</td>\n",
       "      <td>3.2</td>\n",
       "      <td>Iris-virginica</td>\n",
       "    </tr>\n",
       "    <tr>\n",
       "      <th>121</th>\n",
       "      <td>5.6</td>\n",
       "      <td>2.8</td>\n",
       "      <td>Iris-virginica</td>\n",
       "    </tr>\n",
       "    <tr>\n",
       "      <th>122</th>\n",
       "      <td>7.7</td>\n",
       "      <td>2.8</td>\n",
       "      <td>Iris-virginica</td>\n",
       "    </tr>\n",
       "    <tr>\n",
       "      <th>123</th>\n",
       "      <td>6.3</td>\n",
       "      <td>2.7</td>\n",
       "      <td>Iris-virginica</td>\n",
       "    </tr>\n",
       "    <tr>\n",
       "      <th>124</th>\n",
       "      <td>6.7</td>\n",
       "      <td>3.3</td>\n",
       "      <td>Iris-virginica</td>\n",
       "    </tr>\n",
       "    <tr>\n",
       "      <th>125</th>\n",
       "      <td>7.2</td>\n",
       "      <td>3.2</td>\n",
       "      <td>Iris-virginica</td>\n",
       "    </tr>\n",
       "    <tr>\n",
       "      <th>126</th>\n",
       "      <td>6.2</td>\n",
       "      <td>2.8</td>\n",
       "      <td>Iris-virginica</td>\n",
       "    </tr>\n",
       "    <tr>\n",
       "      <th>127</th>\n",
       "      <td>6.1</td>\n",
       "      <td>3.0</td>\n",
       "      <td>Iris-virginica</td>\n",
       "    </tr>\n",
       "    <tr>\n",
       "      <th>128</th>\n",
       "      <td>6.4</td>\n",
       "      <td>2.8</td>\n",
       "      <td>Iris-virginica</td>\n",
       "    </tr>\n",
       "    <tr>\n",
       "      <th>129</th>\n",
       "      <td>7.2</td>\n",
       "      <td>3.0</td>\n",
       "      <td>Iris-virginica</td>\n",
       "    </tr>\n",
       "    <tr>\n",
       "      <th>130</th>\n",
       "      <td>7.4</td>\n",
       "      <td>2.8</td>\n",
       "      <td>Iris-virginica</td>\n",
       "    </tr>\n",
       "    <tr>\n",
       "      <th>131</th>\n",
       "      <td>7.9</td>\n",
       "      <td>3.8</td>\n",
       "      <td>Iris-virginica</td>\n",
       "    </tr>\n",
       "    <tr>\n",
       "      <th>132</th>\n",
       "      <td>6.4</td>\n",
       "      <td>2.8</td>\n",
       "      <td>Iris-virginica</td>\n",
       "    </tr>\n",
       "    <tr>\n",
       "      <th>133</th>\n",
       "      <td>6.3</td>\n",
       "      <td>2.8</td>\n",
       "      <td>Iris-virginica</td>\n",
       "    </tr>\n",
       "    <tr>\n",
       "      <th>134</th>\n",
       "      <td>6.1</td>\n",
       "      <td>2.6</td>\n",
       "      <td>Iris-virginica</td>\n",
       "    </tr>\n",
       "    <tr>\n",
       "      <th>135</th>\n",
       "      <td>7.7</td>\n",
       "      <td>3.0</td>\n",
       "      <td>Iris-virginica</td>\n",
       "    </tr>\n",
       "    <tr>\n",
       "      <th>136</th>\n",
       "      <td>6.3</td>\n",
       "      <td>3.4</td>\n",
       "      <td>Iris-virginica</td>\n",
       "    </tr>\n",
       "    <tr>\n",
       "      <th>137</th>\n",
       "      <td>6.4</td>\n",
       "      <td>3.1</td>\n",
       "      <td>Iris-virginica</td>\n",
       "    </tr>\n",
       "    <tr>\n",
       "      <th>138</th>\n",
       "      <td>6.0</td>\n",
       "      <td>3.0</td>\n",
       "      <td>Iris-virginica</td>\n",
       "    </tr>\n",
       "    <tr>\n",
       "      <th>139</th>\n",
       "      <td>6.9</td>\n",
       "      <td>3.1</td>\n",
       "      <td>Iris-virginica</td>\n",
       "    </tr>\n",
       "    <tr>\n",
       "      <th>140</th>\n",
       "      <td>6.7</td>\n",
       "      <td>3.1</td>\n",
       "      <td>Iris-virginica</td>\n",
       "    </tr>\n",
       "    <tr>\n",
       "      <th>141</th>\n",
       "      <td>6.9</td>\n",
       "      <td>3.1</td>\n",
       "      <td>Iris-virginica</td>\n",
       "    </tr>\n",
       "    <tr>\n",
       "      <th>142</th>\n",
       "      <td>5.8</td>\n",
       "      <td>2.7</td>\n",
       "      <td>Iris-virginica</td>\n",
       "    </tr>\n",
       "    <tr>\n",
       "      <th>143</th>\n",
       "      <td>6.8</td>\n",
       "      <td>3.2</td>\n",
       "      <td>Iris-virginica</td>\n",
       "    </tr>\n",
       "    <tr>\n",
       "      <th>144</th>\n",
       "      <td>6.7</td>\n",
       "      <td>3.3</td>\n",
       "      <td>Iris-virginica</td>\n",
       "    </tr>\n",
       "    <tr>\n",
       "      <th>145</th>\n",
       "      <td>6.7</td>\n",
       "      <td>3.0</td>\n",
       "      <td>Iris-virginica</td>\n",
       "    </tr>\n",
       "    <tr>\n",
       "      <th>146</th>\n",
       "      <td>6.3</td>\n",
       "      <td>2.5</td>\n",
       "      <td>Iris-virginica</td>\n",
       "    </tr>\n",
       "    <tr>\n",
       "      <th>147</th>\n",
       "      <td>6.5</td>\n",
       "      <td>3.0</td>\n",
       "      <td>Iris-virginica</td>\n",
       "    </tr>\n",
       "    <tr>\n",
       "      <th>148</th>\n",
       "      <td>6.2</td>\n",
       "      <td>3.4</td>\n",
       "      <td>Iris-virginica</td>\n",
       "    </tr>\n",
       "    <tr>\n",
       "      <th>149</th>\n",
       "      <td>5.9</td>\n",
       "      <td>3.0</td>\n",
       "      <td>Iris-virginica</td>\n",
       "    </tr>\n",
       "  </tbody>\n",
       "</table>\n",
       "<p>150 rows × 3 columns</p>\n",
       "</div>"
      ],
      "text/plain": [
       "     sep_len  sep_width               y\n",
       "0        5.1        3.5     Iris-setosa\n",
       "1        4.9        3.0     Iris-setosa\n",
       "2        4.7        3.2     Iris-setosa\n",
       "3        4.6        3.1     Iris-setosa\n",
       "4        5.0        3.6     Iris-setosa\n",
       "5        5.4        3.9     Iris-setosa\n",
       "6        4.6        3.4     Iris-setosa\n",
       "7        5.0        3.4     Iris-setosa\n",
       "8        4.4        2.9     Iris-setosa\n",
       "9        4.9        3.1     Iris-setosa\n",
       "10       5.4        3.7     Iris-setosa\n",
       "11       4.8        3.4     Iris-setosa\n",
       "12       4.8        3.0     Iris-setosa\n",
       "13       4.3        3.0     Iris-setosa\n",
       "14       5.8        4.0     Iris-setosa\n",
       "15       5.7        4.4     Iris-setosa\n",
       "16       5.4        3.9     Iris-setosa\n",
       "17       5.1        3.5     Iris-setosa\n",
       "18       5.7        3.8     Iris-setosa\n",
       "19       5.1        3.8     Iris-setosa\n",
       "20       5.4        3.4     Iris-setosa\n",
       "21       5.1        3.7     Iris-setosa\n",
       "22       4.6        3.6     Iris-setosa\n",
       "23       5.1        3.3     Iris-setosa\n",
       "24       4.8        3.4     Iris-setosa\n",
       "25       5.0        3.0     Iris-setosa\n",
       "26       5.0        3.4     Iris-setosa\n",
       "27       5.2        3.5     Iris-setosa\n",
       "28       5.2        3.4     Iris-setosa\n",
       "29       4.7        3.2     Iris-setosa\n",
       "..       ...        ...             ...\n",
       "120      6.9        3.2  Iris-virginica\n",
       "121      5.6        2.8  Iris-virginica\n",
       "122      7.7        2.8  Iris-virginica\n",
       "123      6.3        2.7  Iris-virginica\n",
       "124      6.7        3.3  Iris-virginica\n",
       "125      7.2        3.2  Iris-virginica\n",
       "126      6.2        2.8  Iris-virginica\n",
       "127      6.1        3.0  Iris-virginica\n",
       "128      6.4        2.8  Iris-virginica\n",
       "129      7.2        3.0  Iris-virginica\n",
       "130      7.4        2.8  Iris-virginica\n",
       "131      7.9        3.8  Iris-virginica\n",
       "132      6.4        2.8  Iris-virginica\n",
       "133      6.3        2.8  Iris-virginica\n",
       "134      6.1        2.6  Iris-virginica\n",
       "135      7.7        3.0  Iris-virginica\n",
       "136      6.3        3.4  Iris-virginica\n",
       "137      6.4        3.1  Iris-virginica\n",
       "138      6.0        3.0  Iris-virginica\n",
       "139      6.9        3.1  Iris-virginica\n",
       "140      6.7        3.1  Iris-virginica\n",
       "141      6.9        3.1  Iris-virginica\n",
       "142      5.8        2.7  Iris-virginica\n",
       "143      6.8        3.2  Iris-virginica\n",
       "144      6.7        3.3  Iris-virginica\n",
       "145      6.7        3.0  Iris-virginica\n",
       "146      6.3        2.5  Iris-virginica\n",
       "147      6.5        3.0  Iris-virginica\n",
       "148      6.2        3.4  Iris-virginica\n",
       "149      5.9        3.0  Iris-virginica\n",
       "\n",
       "[150 rows x 3 columns]"
      ]
     },
     "execution_count": 4,
     "metadata": {},
     "output_type": "execute_result"
    }
   ],
   "source": [
    "# Manual data loading\n",
    "import pandas as pd\n",
    "df = pd.read_csv('iris.data', names = ['sep_len', 'sep_width', 'pet_len','pet_wid', 'y']) #Source: https://archive.ics.uci.edu/ml/datasets/Iris\n",
    "df = df[['sep_len', 'sep_width',  'y']] # get 2-dimensional data. It is simplification to be able to plot the data\n",
    "df #raw data"
   ]
  },
  {
   "cell_type": "markdown",
   "metadata": {
    "run_control": {
     "frozen": false,
     "read_only": false
    }
   },
   "source": [
    "# Preprocessing\n",
    "* Code all data into floats.\n",
    "* Scale features."
   ]
  },
  {
   "cell_type": "markdown",
   "metadata": {
    "ExecuteTime": {
     "end_time": "2017-03-15T13:55:53.287245",
     "start_time": "2017-03-15T13:55:53.283234"
    },
    "run_control": {
     "frozen": false,
     "read_only": false
    }
   },
   "source": [
    "## Encoding variables into floats\n",
    "Explanatory variables are already numbers. We need to convert only classes."
   ]
  },
  {
   "cell_type": "code",
   "execution_count": 5,
   "metadata": {
    "ExecuteTime": {
     "end_time": "2017-03-17T10:34:48.000428",
     "start_time": "2017-03-17T10:34:47.990399"
    },
    "collapsed": false,
    "run_control": {
     "frozen": false,
     "read_only": false
    }
   },
   "outputs": [
    {
     "name": "stdout",
     "output_type": "stream",
     "text": [
      "['Iris-setosa', 'Iris-setosa', 'Iris-setosa', 'Iris-setosa', 'Iris-setosa', 'Iris-setosa', 'Iris-setosa', 'Iris-setosa', 'Iris-setosa', 'Iris-setosa', 'Iris-setosa', 'Iris-setosa', 'Iris-setosa', 'Iris-setosa', 'Iris-setosa', 'Iris-setosa', 'Iris-setosa', 'Iris-setosa', 'Iris-setosa', 'Iris-setosa', 'Iris-setosa', 'Iris-setosa', 'Iris-setosa', 'Iris-setosa', 'Iris-setosa', 'Iris-setosa', 'Iris-setosa', 'Iris-setosa', 'Iris-setosa', 'Iris-setosa', 'Iris-setosa', 'Iris-setosa', 'Iris-setosa', 'Iris-setosa', 'Iris-setosa', 'Iris-setosa', 'Iris-setosa', 'Iris-setosa', 'Iris-setosa', 'Iris-setosa', 'Iris-setosa', 'Iris-setosa', 'Iris-setosa', 'Iris-setosa', 'Iris-setosa', 'Iris-setosa', 'Iris-setosa', 'Iris-setosa', 'Iris-setosa', 'Iris-setosa', 'Iris-versicolor', 'Iris-versicolor', 'Iris-versicolor', 'Iris-versicolor', 'Iris-versicolor', 'Iris-versicolor', 'Iris-versicolor', 'Iris-versicolor', 'Iris-versicolor', 'Iris-versicolor', 'Iris-versicolor', 'Iris-versicolor', 'Iris-versicolor', 'Iris-versicolor', 'Iris-versicolor', 'Iris-versicolor', 'Iris-versicolor', 'Iris-versicolor', 'Iris-versicolor', 'Iris-versicolor', 'Iris-versicolor', 'Iris-versicolor', 'Iris-versicolor', 'Iris-versicolor', 'Iris-versicolor', 'Iris-versicolor', 'Iris-versicolor', 'Iris-versicolor', 'Iris-versicolor', 'Iris-versicolor', 'Iris-versicolor', 'Iris-versicolor', 'Iris-versicolor', 'Iris-versicolor', 'Iris-versicolor', 'Iris-versicolor', 'Iris-versicolor', 'Iris-versicolor', 'Iris-versicolor', 'Iris-versicolor', 'Iris-versicolor', 'Iris-versicolor', 'Iris-versicolor', 'Iris-versicolor', 'Iris-versicolor', 'Iris-versicolor', 'Iris-versicolor', 'Iris-versicolor', 'Iris-versicolor', 'Iris-versicolor', 'Iris-virginica', 'Iris-virginica', 'Iris-virginica', 'Iris-virginica', 'Iris-virginica', 'Iris-virginica', 'Iris-virginica', 'Iris-virginica', 'Iris-virginica', 'Iris-virginica', 'Iris-virginica', 'Iris-virginica', 'Iris-virginica', 'Iris-virginica', 'Iris-virginica', 'Iris-virginica', 'Iris-virginica', 'Iris-virginica', 'Iris-virginica', 'Iris-virginica', 'Iris-virginica', 'Iris-virginica', 'Iris-virginica', 'Iris-virginica', 'Iris-virginica', 'Iris-virginica', 'Iris-virginica', 'Iris-virginica', 'Iris-virginica', 'Iris-virginica', 'Iris-virginica', 'Iris-virginica', 'Iris-virginica', 'Iris-virginica', 'Iris-virginica', 'Iris-virginica', 'Iris-virginica', 'Iris-virginica', 'Iris-virginica', 'Iris-virginica', 'Iris-virginica', 'Iris-virginica', 'Iris-virginica', 'Iris-virginica', 'Iris-virginica', 'Iris-virginica', 'Iris-virginica', 'Iris-virginica', 'Iris-virginica', 'Iris-virginica']\n",
      "\n",
      "[0 0 0 0 0 0 0 0 0 0 0 0 0 0 0 0 0 0 0 0 0 0 0 0 0 0 0 0 0 0 0 0 0 0 0 0 0\n",
      " 0 0 0 0 0 0 0 0 0 0 0 0 0 1 1 1 1 1 1 1 1 1 1 1 1 1 1 1 1 1 1 1 1 1 1 1 1\n",
      " 1 1 1 1 1 1 1 1 1 1 1 1 1 1 1 1 1 1 1 1 1 1 1 1 1 1 2 2 2 2 2 2 2 2 2 2 2\n",
      " 2 2 2 2 2 2 2 2 2 2 2 2 2 2 2 2 2 2 2 2 2 2 2 2 2 2 2 2 2 2 2 2 2 2 2 2 2\n",
      " 2 2]\n"
     ]
    }
   ],
   "source": [
    "#Coding class into a number, \n",
    "from sklearn import preprocessing\n",
    "le = preprocessing.LabelEncoder()\n",
    "y = le.fit_transform(df['y']) \n",
    "X = df.drop('y', axis=1) #axis = 0 for rows, axis = 1 for columns\n",
    "print(list(df['y']))\n",
    "print()\n",
    "print(y)"
   ]
  },
  {
   "cell_type": "markdown",
   "metadata": {
    "run_control": {
     "frozen": false,
     "read_only": false
    }
   },
   "source": [
    "<span style=\"font-size:140%\">**Estimators**</span> [Source](http://scikit-learn.org/stable/tutorial/statistical_inference/settings.html)\n",
    "* An estimator is any object that learns from data. \n",
    "* E.g. classification, regression or clustering algorithms or transformers that extracts/filters useful features from raw data.\n",
    "* Why introducing? They have a unified interface.\n",
    "\n",
    "All estimator objects have a *fit* method that takes a dataset (usually a 2-d array) and learns from it (i.e., set model's parameters):\n",
    "<pre> estimator.fit(data) </pre>\n",
    "\n",
    "**Further methods differ per estimator type**\n",
    "* supervised (classification, regression) - *fit(), predict(), fit_predict()*\n",
    "* unsupervised \n",
    "    * matrix factorization problems (PCA) - *fit(), transform(), fit_transform()*\n",
    "    * clustering - *fit(), predict()*, sometimes also *transform()*\n",
    "    * ...\n",
    "\n",
    "In general, all transformers (i.e., estimators that transform data - e.g LabelEncoder()) have *fit()*, *transform()*, and *fit_transform()* methods. \n",
    "\n",
    "**Estimators parameters**\n",
    "<pre>\n",
    "estimator = Estimator(param1=1, param2=2)\n",
    "estimator.param1\n",
    "</pre>\n",
    "\n",
    "**Estimated parameters**\n",
    "<pre>\n",
    "estimator.estimated-param_\n",
    "</pre>\n",
    "\n",
    "**Let's look at**\n",
    "<pre>y = le.fit_transform(df['y'])</pre>\n"
   ]
  },
  {
   "cell_type": "code",
   "execution_count": 6,
   "metadata": {
    "ExecuteTime": {
     "end_time": "2017-03-17T10:41:42.141879",
     "start_time": "2017-03-17T10:41:42.136892"
    },
    "collapsed": false,
    "run_control": {
     "frozen": false,
     "read_only": false
    }
   },
   "outputs": [
    {
     "data": {
      "text/plain": [
       "LabelEncoder()"
      ]
     },
     "execution_count": 6,
     "metadata": {},
     "output_type": "execute_result"
    }
   ],
   "source": [
    "#what estimator.fit does?\n",
    "le_tmp = preprocessing.LabelEncoder()\n",
    "le_tmp.fit(df['y']) # fitting model = setting parameters of the model\n",
    "# 'Iris-setosa' = 0\n",
    "# 'Iris-versicolor' = 1\n",
    "# ...\n"
   ]
  },
  {
   "cell_type": "code",
   "execution_count": 7,
   "metadata": {
    "ExecuteTime": {
     "end_time": "2017-03-17T10:41:53.941639",
     "start_time": "2017-03-17T10:41:53.937662"
    },
    "collapsed": false
   },
   "outputs": [
    {
     "data": {
      "text/plain": [
       "array(['Iris-setosa', 'Iris-versicolor', 'Iris-virginica'], dtype=object)"
      ]
     },
     "execution_count": 7,
     "metadata": {},
     "output_type": "execute_result"
    }
   ],
   "source": [
    "le_tmp.classes_"
   ]
  },
  {
   "cell_type": "code",
   "execution_count": 9,
   "metadata": {
    "ExecuteTime": {
     "end_time": "2017-03-17T10:42:57.930438",
     "start_time": "2017-03-17T10:42:57.925423"
    },
    "collapsed": false,
    "run_control": {
     "frozen": false,
     "read_only": false
    }
   },
   "outputs": [
    {
     "data": {
      "text/plain": [
       "array([0, 0, 0, 1, 1], dtype=int64)"
      ]
     },
     "execution_count": 9,
     "metadata": {},
     "output_type": "execute_result"
    }
   ],
   "source": [
    "le_tmp.transform(['Iris-setosa', 'Iris-setosa', 'Iris-setosa', 'Iris-versicolor', 'Iris-versicolor'])"
   ]
  },
  {
   "cell_type": "code",
   "execution_count": 10,
   "metadata": {
    "ExecuteTime": {
     "end_time": "2017-03-17T10:44:04.521445",
     "start_time": "2017-03-17T10:44:04.516431"
    },
    "collapsed": false,
    "run_control": {
     "frozen": false,
     "read_only": false
    }
   },
   "outputs": [
    {
     "data": {
      "text/plain": [
       "array([0, 0, 0, 1], dtype=int64)"
      ]
     },
     "execution_count": 10,
     "metadata": {},
     "output_type": "execute_result"
    }
   ],
   "source": [
    "# Fitting and transforming together\n",
    "le_tmp = preprocessing.LabelEncoder()\n",
    "le_tmp.fit_transform(['Iris-setosa', 'Iris-setosa', 'Iris-setosa', 'Iris-versicolor'])"
   ]
  },
  {
   "cell_type": "markdown",
   "metadata": {
    "run_control": {
     "frozen": false,
     "read_only": false
    }
   },
   "source": [
    "## Feature scalling ([source](http://sebastianraschka.com/Articles/2014_about_feature_scaling.html))\n",
    "\n",
    "= data normalization. \n",
    "\n",
    "There are different ways how to scale features. Here, we do a standard scalar normalization - features will be rescaled such that μ=0 and σ=1 according to:  \n",
    "\n",
    "<img src=\"imgs/scalling.png\" />\n",
    "\n",
    "\n",
    "**Why to normalize?**\n",
    "* Variables have the same units.\n",
    "* Requirement (assumption) for many models (e.g., Nearest Neighbour, SVM, and PCA).\n",
    "* The only family of algorithms of being scale-invariant are tree-based methods (e.g., Decision Trees). \n",
    "\n",
    "**Why NOT normalize?**\n",
    "* Difficult to intepret the values. Think how would you intepret if someone tells you that his or her age is -0.53?!\n",
    "\n",
    "** Always the data normalize (unless you have a good reason why not to)! **\n",
    "\n"
   ]
  },
  {
   "cell_type": "code",
   "execution_count": 11,
   "metadata": {
    "ExecuteTime": {
     "end_time": "2017-03-17T10:50:09.556479",
     "start_time": "2017-03-17T10:50:09.550463"
    },
    "collapsed": false,
    "run_control": {
     "frozen": false,
     "read_only": false
    }
   },
   "outputs": [
    {
     "name": "stdout",
     "output_type": "stream",
     "text": [
      "   name  income  age\n",
      "0  john   31000   25\n",
      "1  mark   30000   65\n",
      "2  adam   35000   25\n"
     ]
    }
   ],
   "source": [
    "people = pd.DataFrame(data = [['john', 31000, 25], ['mark',30000, 65], ['adam',35000, 25]], columns=['name','income', 'age'])\n",
    "print(people) "
   ]
  },
  {
   "cell_type": "markdown",
   "metadata": {
    "run_control": {
     "frozen": false,
     "read_only": false
    }
   },
   "source": [
    "** Who of these guys are the most alike each other? **"
   ]
  },
  {
   "cell_type": "code",
   "execution_count": 12,
   "metadata": {
    "ExecuteTime": {
     "end_time": "2017-03-17T10:51:43.922733",
     "start_time": "2017-03-17T10:51:43.176334"
    },
    "code_folding": [
     6,
     14
    ],
    "collapsed": false,
    "run_control": {
     "frozen": false,
     "marked": true,
     "read_only": false
    },
    "scrolled": false
   },
   "outputs": [
    {
     "data": {
      "image/png": "[encoded data removed]",
      "text/plain": [
       "<matplotlib.figure.Figure at 0x279726b0b8>"
      ]
     },
     "metadata": {},
     "output_type": "display_data"
    }
   ],
   "source": [
    "# The effect of scaling on Eucliadian distance (that is used e.g. by Nearest Neighbour).\n",
    "import math\n",
    "import matplotlib\n",
    "import matplotlib.pyplot as plt\n",
    "import numpy as np\n",
    "\n",
    "def compute_distance(obj1, obj2): \n",
    "    '''Computes euclidian distance of two vectors.'''\n",
    "    \n",
    "    sum = 0\n",
    "    for i in range(len(obj1)):\n",
    "        sum+= (obj1[i] - obj2[i])**2\n",
    "    return math.sqrt(sum)\n",
    "\n",
    "def plot_people(people, init_call):\n",
    "    '''Plots 3 people into a vector space and shows Euclidian distance between them.'''\n",
    "    \n",
    "    dist_not_norm = compute_distance(people.loc[0,['income', 'age']], people.loc[1,['income', 'age']])\n",
    "    plt.scatter(people['income'], people['age'])\n",
    "    plt.plot(people['income'], people['age'])\n",
    "  \n",
    "    for index, person in people.iterrows():\n",
    "        plt.text(person['income'], person['age'], person['name'])\n",
    "    plt.text(np.mean(people[:2]['income']), np.mean(people[:2]['age']), round(dist_not_norm,2) )\n",
    "    \n",
    "    if init_call:\n",
    "        people_1_2 = people.iloc[[1]].append(people.iloc[[2]], ignore_index = True) #people.iloc[ Array ] returns DataFrame, people.iloc[ INT ] return Series.\n",
    "        plot_people(people_1_2, init_call = False)          \n",
    "        people_0_2 = people.iloc[[0]].append(people.iloc[[2]], ignore_index = True)\n",
    "        plot_people(people_0_2, init_call = False)  \n",
    "        plt.show()\n",
    "\n",
    "plot_people(people, init_call=True)"
   ]
  },
  {
   "cell_type": "code",
   "execution_count": 13,
   "metadata": {
    "ExecuteTime": {
     "end_time": "2017-03-17T10:54:09.317012",
     "start_time": "2017-03-17T10:54:09.136529"
    },
    "collapsed": false,
    "run_control": {
     "frozen": false,
     "read_only": false
    }
   },
   "outputs": [
    {
     "data": {
      "image/png": "[encoded data removed]",
      "text/plain": [
       "<matplotlib.figure.Figure at 0x2796c8f940>"
      ]
     },
     "metadata": {},
     "output_type": "display_data"
    }
   ],
   "source": [
    "# Using scaled features.\n",
    "people_norm = people.copy()\n",
    "people_norm[['income', 'age']] = preprocessing.scale(people_norm[['income', 'age']])\n",
    "plot_people(people_norm,  init_call=True) # Distances changes after the feature scalling such that relatively distances between people are different."
   ]
  },
  {
   "cell_type": "code",
   "execution_count": 14,
   "metadata": {
    "ExecuteTime": {
     "end_time": "2017-03-17T10:59:50.731772",
     "start_time": "2017-03-17T10:59:50.394882"
    },
    "collapsed": false,
    "run_control": {
     "frozen": false,
     "read_only": false
    }
   },
   "outputs": [
    {
     "data": {
      "image/png": "[encoded data removed]",
      "text/plain": [
       "<matplotlib.figure.Figure at 0x2797bfb860>"
      ]
     },
     "metadata": {},
     "output_type": "display_data"
    }
   ],
   "source": [
    "# How the orignal figures rather looks like.\"\n",
    "plt.figure(figsize = (40,5))\n",
    "plot_people(people, init_call = True) "
   ]
  },
  {
   "cell_type": "markdown",
   "metadata": {
    "run_control": {
     "frozen": false,
     "read_only": false
    }
   },
   "source": [
    "** Think how would SVM separate that classes in following example? **\n",
    "<img src=\"imgs/svm-feature-scalling.png\">"
   ]
  },
  {
   "cell_type": "markdown",
   "metadata": {
    "run_control": {
     "frozen": false,
     "read_only": false
    }
   },
   "source": [
    "** Regardless the age, anyone with income higher than 31,000 would be classified as a circle. **\n",
    "<img src=\"imgs/svm-feature-scalling-solution.png\">"
   ]
  },
  {
   "cell_type": "markdown",
   "metadata": {
    "run_control": {
     "frozen": false,
     "read_only": false
    }
   },
   "source": [
    "** Effect of feature scaling PCA.** [Source](http://scikit-learn.org/dev/auto_examples/preprocessing/plot_scaling_importance.html)\n",
    "\n",
    "<p>PCA might determine that the direction of maximal variance more closely corresponds with the features with higher variance.</p>\n",
    "<img src=\"imgs/pca-feature-scalling.png\" width=\"600\">\n"
   ]
  },
  {
   "cell_type": "markdown",
   "metadata": {
    "run_control": {
     "frozen": false,
     "read_only": false
    }
   },
   "source": [
    "** Effect of feature scalling on gradient descent.** [Source](http://m.blog.csdn.net/article/details?id=50670674)\n",
    "\n",
    "<p>Gradient descent with non-scalled features can go zig-zap and is much slowier.</p>\n",
    "<img src=\"imgs/featurescaliing-gradient2.png\">"
   ]
  },
  {
   "cell_type": "code",
   "execution_count": 16,
   "metadata": {
    "ExecuteTime": {
     "end_time": "2017-03-17T11:04:12.842275",
     "start_time": "2017-03-17T11:04:12.835255"
    },
    "collapsed": false,
    "run_control": {
     "frozen": false,
     "read_only": false
    }
   },
   "outputs": [
    {
     "name": "stdout",
     "output_type": "stream",
     "text": [
      "sep_len      1.049161e-16\n",
      "sep_width   -9.150088e-17\n",
      "dtype: float64\n",
      "sep_len      1.00335\n",
      "sep_width    1.00335\n",
      "dtype: float64\n"
     ]
    }
   ],
   "source": [
    "# data normalization\n",
    "from sklearn import preprocessing\n",
    "X[['sep_len','sep_width']] = preprocessing.scale(X) #.scale() returns numpy.ndarray and normally we would keep it like this. \n",
    "\t\t\t\t\t\t\t\t\t\t\t\t\t#But now when we learn, it is more clear to refer to the dimensions by names.\n",
    "print(X.mean(axis=0)) #almost zero\n",
    "print(X.std(axis=0))"
   ]
  },
  {
   "cell_type": "markdown",
   "metadata": {
    "run_control": {
     "frozen": false,
     "read_only": false
    }
   },
   "source": [
    "# Splitting the data\n",
    "A dataset should be split to the following sets:\n",
    "* training: for training purposes\n",
    "* validation: for evaluation of a trained model (hyperparemeters can be influenced by knowing the validation set)\n",
    "* test set: final evaluation, completely hidden set, used just once\n",
    "<img src=\"imgs/eval-validation.gif\" />"
   ]
  },
  {
   "cell_type": "code",
   "execution_count": 20,
   "metadata": {
    "ExecuteTime": {
     "end_time": "2017-03-17T11:10:51.850497",
     "start_time": "2017-03-17T11:10:51.843479"
    },
    "collapsed": false,
    "run_control": {
     "frozen": false,
     "read_only": false
    }
   },
   "outputs": [
    {
     "name": "stdout",
     "output_type": "stream",
     "text": [
      "Training set: 73 flowers\n",
      "Validation set: 32 flowers\n",
      "Testing set: 45 flowers\n"
     ]
    }
   ],
   "source": [
    "# Split a dataset into testing and training\n",
    "from sklearn.model_selection import train_test_split\n",
    "X_train_val, X_test, y_train_val, y_test = train_test_split(X, y, test_size=0.3, random_state=42) # random_set data set is explained further cells.\n",
    "X_train, X_val, y_train, y_val = train_test_split(X_train_val, y_train_val, test_size=0.3, random_state=42) \n",
    "print (\"Training set: %d flowers\\nValidation set: %d flowers\\nTesting set: %d flowers\" % (len(X_train), len(X_val), len(X_test)))\n"
   ]
  },
  {
   "cell_type": "code",
   "execution_count": 29,
   "metadata": {
    "ExecuteTime": {
     "end_time": "2017-03-17T11:13:09.578853",
     "start_time": "2017-03-17T11:13:09.571861"
    },
    "collapsed": false,
    "run_control": {
     "frozen": false,
     "read_only": false
    }
   },
   "outputs": [
    {
     "name": "stdout",
     "output_type": "stream",
     "text": [
      "[array([[8, 9],\n",
      "       [0, 1],\n",
      "       [4, 5]]), array([[6, 7],\n",
      "       [2, 3]]), [4, 0, 2], [3, 1]]\n",
      "[array([[6, 7],\n",
      "       [8, 9],\n",
      "       [4, 5]]), array([[2, 3],\n",
      "       [0, 1]]), [3, 4, 2], [1, 0]]\n"
     ]
    }
   ],
   "source": [
    "# Splitting data when param random_state is not defined. Souce: http://stackoverflow.com/questions/28064634/random-state-pseudo-random-numberin-scikit-learn\n",
    "X_tmp, y_tmp = np.arange(10).reshape((5, 2)), range(5) \n",
    "\n",
    "split_1 = train_test_split(X_tmp, y_tmp, test_size=0.3)\n",
    "split_2 = train_test_split(X_tmp, y_tmp, test_size=0.3)\n",
    "#The sets are different.\n",
    "print(split_1)\n",
    "print(split_2)"
   ]
  },
  {
   "cell_type": "code",
   "execution_count": 31,
   "metadata": {
    "ExecuteTime": {
     "end_time": "2017-03-17T11:15:37.691958",
     "start_time": "2017-03-17T11:15:37.684966"
    },
    "collapsed": false,
    "run_control": {
     "frozen": false,
     "read_only": false
    }
   },
   "outputs": [
    {
     "name": "stdout",
     "output_type": "stream",
     "text": [
      "[array([[0, 1],\n",
      "       [6, 7],\n",
      "       [2, 3]]), array([[4, 5],\n",
      "       [8, 9]]), [0, 3, 1], [2, 4]]\n",
      "[array([[0, 1],\n",
      "       [6, 7],\n",
      "       [2, 3]]), array([[4, 5],\n",
      "       [8, 9]]), [0, 3, 1], [2, 4]]\n"
     ]
    }
   ],
   "source": [
    "# Splitting data when param random_state is defined\n",
    "split_1 = train_test_split(X_tmp, y_tmp, train_size=0.7, random_state = 11)\n",
    "split_2 = train_test_split(X_tmp, y_tmp, test_size=0.3, random_state = 11)\n",
    "#The sets are the same.\n",
    "print(split_1)\n",
    "print(split_2)"
   ]
  },
  {
   "cell_type": "markdown",
   "metadata": {
    "run_control": {
     "frozen": false,
     "read_only": false
    }
   },
   "source": [
    "# Support Vector Machine (SVM)\n",
    "See intro-svm.pptx."
   ]
  },
  {
   "cell_type": "code",
   "execution_count": 32,
   "metadata": {
    "ExecuteTime": {
     "end_time": "2017-03-17T11:33:07.883060",
     "start_time": "2017-03-17T11:33:07.583263"
    },
    "collapsed": false,
    "run_control": {
     "frozen": false,
     "marked": true,
     "read_only": false
    }
   },
   "outputs": [
    {
     "data": {
      "text/plain": [
       "SVC(C=1, cache_size=200, class_weight=None, coef0=0.0,\n",
       "  decision_function_shape=None, degree=3, gamma='auto', kernel='linear',\n",
       "  max_iter=-1, probability=False, random_state=None, shrinking=True,\n",
       "  tol=0.001, verbose=False)"
      ]
     },
     "execution_count": 32,
     "metadata": {},
     "output_type": "execute_result"
    }
   ],
   "source": [
    "#traing a model\n",
    "from sklearn import svm\n",
    "svc = svm.SVC(kernel='linear', C=1) \n",
    "#trying C in range of 10^-3 and 10^3 is usually sufficient (http://scikit-learn.org/stable/auto_examples/svm/plot_rbf_parameters.html)\n",
    "#also has random_state parameter\n",
    "svc.fit(X_train, y_train)"
   ]
  },
  {
   "cell_type": "markdown",
   "metadata": {
    "run_control": {
     "frozen": false,
     "read_only": false
    }
   },
   "source": [
    "## Visualization of the SVC model\n",
    "How to get this?\n",
    "<img src=\"imgs/svc-vis.png\">\n",
    "\n",
    "**Steps:**\n",
    "\n",
    "**1)** Create meshgrid = matrix that holds in each cell the x and y coordinates for each point in a space ([source](http://stackoverflow.com/questions/39662699/numpy-meshgrid-explanation)).\n",
    "\n",
    "Example of a meshgrid in a space <-3,3>, which is approximately the range of the sepal lenght and width:\n",
    "<img src=\"imgs/svc-vis-mesh-sparse.png\" />\n",
    "**2)** Classify each point of the meshgrid by SVC.\n",
    "<img src=\"imgs/svc-vis-mesh-sparse-classify.png\" />\n",
    "**3)** Apply conturf:\n",
    "<img src=\"imgs/svc-vis-mesh-sparse-conturf.png\" />\n",
    "\n",
    "**4)** Plot the flowers into the vector space. \n",
    "<img src=\"imgs/svc-vis.png\">\n",
    "\n"
   ]
  },
  {
   "cell_type": "code",
   "execution_count": 40,
   "metadata": {
    "ExecuteTime": {
     "end_time": "2017-03-17T11:41:18.756531",
     "start_time": "2017-03-17T11:41:17.358845"
    },
    "collapsed": false,
    "run_control": {
     "frozen": false,
     "read_only": false
    }
   },
   "outputs": [
    {
     "data": {
      "image/png": "[encoded data removed]",
      "text/plain": [
       "<matplotlib.figure.Figure at 0x2797c14828>"
      ]
     },
     "metadata": {},
     "output_type": "display_data"
    }
   ],
   "source": [
    "# Step 1) Creating a meshgird\n",
    "import numpy as np\n",
    "#we will work only with 2-dimensions\n",
    "len_min, len_max = X_train['sep_len'].min() - 1, X_train['sep_len'].max() + 1 #+-1 is there to don't have min, max points at the boundaries of the plot\n",
    "width_min, width_max = X_train['sep_width'].min() - 1, X_train['sep_width'].max() + 1\n",
    "h = np.abs(len_max / len_min) / 100 # we want to have 100 steps. We will also use it for width since the data are normalized.\n",
    "\n",
    "xx, yy = np.meshgrid(np.arange(len_min, len_max, h), np.arange(width_min, width_max, h)) \n",
    "plt.plot(xx, yy, marker='.', color='k', linestyle='none') #plotting the meshgrid for sepal lenght and width\n",
    "plt.show() #there are too many steps to see the individual points"
   ]
  },
  {
   "cell_type": "code",
   "execution_count": 43,
   "metadata": {
    "ExecuteTime": {
     "end_time": "2017-03-17T11:42:55.293444",
     "start_time": "2017-03-17T11:42:55.072889"
    },
    "collapsed": false,
    "run_control": {
     "frozen": false,
     "read_only": false
    }
   },
   "outputs": [
    {
     "data": {
      "text/plain": [
       "array([1, 1, 1, ..., 2, 2, 2], dtype=int64)"
      ]
     },
     "execution_count": 43,
     "metadata": {},
     "output_type": "execute_result"
    }
   ],
   "source": [
    "# Step 2) classifying each point of the meshgrid\n",
    "Z = svc.predict(np.c_[xx.ravel(), yy.ravel()]) #show in console what this does\n",
    "Z"
   ]
  },
  {
   "cell_type": "code",
   "execution_count": 44,
   "metadata": {
    "ExecuteTime": {
     "end_time": "2017-03-17T11:43:50.102689",
     "start_time": "2017-03-17T11:43:49.992393"
    },
    "collapsed": false,
    "run_control": {
     "frozen": false,
     "read_only": false
    }
   },
   "outputs": [
    {
     "data": {
      "text/plain": [
       "<matplotlib.contour.QuadContourSet at 0x2798545a90>"
      ]
     },
     "execution_count": 44,
     "metadata": {},
     "output_type": "execute_result"
    }
   ],
   "source": [
    "# Step 3) applying conturf function \n",
    "import matplotlib.pyplot as plt\n",
    "Z = Z.reshape(xx.shape) #reshape Z into the original size of the meshgrid\n",
    "plt.contourf(xx, yy, Z, cmap=plt.cm.coolwarm, alpha=0.8) # xx = x coords, yy = y coords, Z = value, cmap = colormap"
   ]
  },
  {
   "cell_type": "code",
   "execution_count": 45,
   "metadata": {
    "ExecuteTime": {
     "end_time": "2017-03-17T11:44:20.622184",
     "start_time": "2017-03-17T11:44:20.477801"
    },
    "collapsed": false,
    "run_control": {
     "frozen": false,
     "read_only": false
    }
   },
   "outputs": [
    {
     "data": {
      "image/png": "[encoded data removed]",
      "text/plain": [
       "<matplotlib.figure.Figure at 0x27981cb978>"
      ]
     },
     "metadata": {},
     "output_type": "display_data"
    }
   ],
   "source": [
    "# Step 4) plotting the flowers into the vector space\n",
    "plt.scatter(X_train['sep_len'], X_train['sep_width'], c=y_train, cmap=plt.cm.coolwarm) # c = colors (float or RBG), cmap = colormap (when c are floats) \n",
    "plt.xlabel('Sepal length')\n",
    "plt.ylabel('Sepal width') \n",
    "plt.show() "
   ]
  },
  {
   "cell_type": "markdown",
   "metadata": {
    "run_control": {
     "frozen": false,
     "read_only": false
    }
   },
   "source": [
    "*Example of a conturf which you might be familiar with*\n",
    "<img src=\"imgs/conturf.png\" width=\"400\">"
   ]
  },
  {
   "cell_type": "markdown",
   "metadata": {
    "run_control": {
     "frozen": false,
     "read_only": false
    }
   },
   "source": [
    "# Model evaluation"
   ]
  },
  {
   "cell_type": "markdown",
   "metadata": {
    "run_control": {
     "frozen": false,
     "read_only": false
    }
   },
   "source": [
    "## Evaluation metrics\n",
    "We are done (for a moment) with training a model, let's evaluate it. \n",
    "\n",
    "There are a number of evaluation metrics. The basic ones are precision, recall, and accuracy. We will look into them for single and multi-class cases.\n",
    "\n",
    "### Single class case\n",
    "\n",
    "Let's think about precision, recall, and accuracy in the context of:\n",
    "* Identification of terrorists.\n",
    "* Identification of innovative users.\n",
    "\n",
    "<img src=\"imgs/Precisionrecall.jpg\" width=\"700\"/>\n",
    "\n",
    "Recall is often difficult to be computed, because the total number of positive instances needs to be known.\n",
    "\n",
    "** Questions ** \n",
    "* In which case is recall and in which case is precision more important (think for both cases)? \n",
    "* Is accuracy of 90% when identifying terrorist good? <!-- 100 people consists of 10 terrorists and 90 regular citizens. 90% accuracy can be achieved by classifying all people as citizens.-->\n",
    "\n",
    "\n",
    "** F1 metric **\n",
    "\n",
    "It is a combination of precisiond and recall; it is their weighted average.\n",
    "<img src=\"imgs/f1.jpg\" width=\"200\"/>\n",
    "\n",
    "Properties:\n",
    "* weight is 1-1, but can be adjusted.\n",
    "* ranges from 0-1\n",
    "\n",
    "\n",
    "### Multi-class case\n",
    "* The evaluation metrics apart from accuracy are computed per class (one-vs-rest) or can be avaraged. Accuracy by definition fits the multi-class case. \n",
    "* It is useful to use confusion matrix (see below) to evaluate an estimator's performance (especially when more classes are present). \n",
    "\n",
    "\n",
    "Adapted from [Wiki](https://en.wikipedia.org/wiki/Precision_and_recall).\n"
   ]
  },
  {
   "cell_type": "markdown",
   "metadata": {
    "run_control": {
     "frozen": false,
     "read_only": false
    }
   },
   "source": [
    "## Simple evaluation\n",
    "Here, we will only use accuracy as the evaluation metric (NEVER DO THAT). In the next section, we will use more metrics."
   ]
  },
  {
   "cell_type": "markdown",
   "metadata": {
    "run_control": {
     "frozen": false,
     "read_only": false
    }
   },
   "source": [
    "### Evaluation of validation set"
   ]
  },
  {
   "cell_type": "code",
   "execution_count": 46,
   "metadata": {
    "ExecuteTime": {
     "end_time": "2017-03-17T11:58:41.870588",
     "start_time": "2017-03-17T11:58:41.863568"
    },
    "code_folding": [],
    "collapsed": false,
    "run_control": {
     "frozen": false,
     "read_only": false
    }
   },
   "outputs": [
    {
     "name": "stdout",
     "output_type": "stream",
     "text": [
      "Accuracy is  0.75\n"
     ]
    },
    {
     "data": {
      "text/plain": [
       "array([1, 2, 2, 1, 1, 2, 2, 1, 1, 1, 0, 2, 0, 2, 2, 2, 1, 0, 0, 0, 0, 0, 2,\n",
       "       1, 2, 2, 1, 0, 0, 2, 2, 0], dtype=int64)"
      ]
     },
     "execution_count": 46,
     "metadata": {},
     "output_type": "execute_result"
    }
   ],
   "source": [
    "accuracy = svc.score(X_val, y_val)  #svc.score return mean accuracy\n",
    "print(\"Accuracy is \", accuracy) #Accuracy can be very misleading measure. Results needs to be always further inspected and/or evaluated on more metrics.\n",
    "y_pred = svc.predict(X_val) \n",
    "y_pred"
   ]
  },
  {
   "cell_type": "code",
   "execution_count": 47,
   "metadata": {
    "ExecuteTime": {
     "end_time": "2017-03-17T11:59:40.708206",
     "start_time": "2017-03-17T11:59:40.704224"
    },
    "collapsed": false,
    "run_control": {
     "frozen": false,
     "read_only": false
    }
   },
   "outputs": [
    {
     "data": {
      "text/plain": [
       "array(['Iris-versicolor', 'Iris-virginica', 'Iris-virginica',\n",
       "       'Iris-versicolor', 'Iris-versicolor', 'Iris-virginica',\n",
       "       'Iris-virginica', 'Iris-versicolor', 'Iris-versicolor',\n",
       "       'Iris-versicolor', 'Iris-setosa', 'Iris-virginica', 'Iris-setosa',\n",
       "       'Iris-virginica', 'Iris-virginica', 'Iris-virginica',\n",
       "       'Iris-versicolor', 'Iris-setosa', 'Iris-setosa', 'Iris-setosa',\n",
       "       'Iris-setosa', 'Iris-setosa', 'Iris-virginica', 'Iris-versicolor',\n",
       "       'Iris-virginica', 'Iris-virginica', 'Iris-versicolor',\n",
       "       'Iris-setosa', 'Iris-setosa', 'Iris-virginica', 'Iris-virginica',\n",
       "       'Iris-setosa'], dtype=object)"
      ]
     },
     "execution_count": 47,
     "metadata": {},
     "output_type": "execute_result"
    }
   ],
   "source": [
    "#predicted data in the original space\n",
    "le.inverse_transform(y_pred)"
   ]
  },
  {
   "cell_type": "code",
   "execution_count": 48,
   "metadata": {
    "ExecuteTime": {
     "end_time": "2017-03-17T11:59:53.500117",
     "start_time": "2017-03-17T11:59:53.495103"
    },
    "code_folding": [],
    "collapsed": false,
    "run_control": {
     "frozen": false,
     "read_only": false
    },
    "scrolled": false
   },
   "outputs": [
    {
     "name": "stdout",
     "output_type": "stream",
     "text": [
      "[[10  1  0]\n",
      " [ 0  6  5]\n",
      " [ 0  2  8]]\n"
     ]
    }
   ],
   "source": [
    "#computing confusion matrix\n",
    "from sklearn.metrics import confusion_matrix\n",
    "import itertools\n",
    "\n",
    "cnf_matrix = confusion_matrix(y_val, y_pred)  #computes confusion matrix\n",
    "print(cnf_matrix)"
   ]
  },
  {
   "cell_type": "code",
   "execution_count": 49,
   "metadata": {
    "ExecuteTime": {
     "end_time": "2017-03-17T12:00:14.905119",
     "start_time": "2017-03-17T12:00:14.560217"
    },
    "code_folding": [
     1
    ],
    "collapsed": false,
    "run_control": {
     "frozen": false,
     "read_only": false
    }
   },
   "outputs": [
    {
     "name": "stdout",
     "output_type": "stream",
     "text": [
      "Confusion matrix, without normalization\n"
     ]
    },
    {
     "data": {
      "image/png": "[encoded data removed]",
      "text/plain": [
       "<matplotlib.figure.Figure at 0x2798519da0>"
      ]
     },
     "metadata": {},
     "output_type": "display_data"
    }
   ],
   "source": [
    "#plotting the confusion matrix nicely\n",
    "def plot_confusion_matrix(cm, classes, normalize=False, title='Confusion matrix', cmap=plt.cm.Blues):\n",
    "    \"\"\"\n",
    "    This function prints and plots the confusion matrix.\n",
    "    Normalization can be applied by setting `normalize=True`.\n",
    "    # Source: http://scikit-learn.org/stable/auto_examples/model_selection/plot_confusion_matrix.html\n",
    "    \"\"\"\n",
    "    plt.imshow(cm, interpolation='nearest', cmap=cmap)\n",
    "    plt.title(title)\n",
    "    plt.colorbar()\n",
    "    tick_marks = np.arange(len(classes))\n",
    "    plt.xticks(tick_marks, classes, rotation=45)\n",
    "    plt.yticks(tick_marks, classes)\n",
    "\n",
    "    if normalize:\n",
    "        cm = cm.astype('float') / cm.sum(axis=1)[:, np.newaxis]\n",
    "        print(\"Normalized confusion matrix\")\n",
    "    else:\n",
    "        print('Confusion matrix, without normalization')\n",
    "\n",
    "    cm = np.around(cm, decimals=2) # ADDED by Adam\n",
    "    #print(cm)\n",
    "    thresh = cm.max() / 2.\n",
    "    for i, j in itertools.product(range(cm.shape[0]), range(cm.shape[1])):\n",
    "        plt.text(j, i, cm[i, j],\n",
    "                 horizontalalignment=\"center\",\n",
    "                 color=\"white\" if cm[i, j] > thresh else \"black\")\n",
    "\n",
    "    plt.tight_layout()\n",
    "    plt.ylabel('True label')\n",
    "    plt.xlabel('Predicted label')\n",
    "# Plot non-normalized confusion matrix\n",
    "plt.figure()\n",
    "plot_confusion_matrix(cnf_matrix, classes= le.classes_, title='Confusion matrix, without normalization')\n",
    "plt.show()"
   ]
  },
  {
   "cell_type": "code",
   "execution_count": 50,
   "metadata": {
    "ExecuteTime": {
     "end_time": "2017-03-17T12:01:03.509527",
     "start_time": "2017-03-17T12:01:03.238800"
    },
    "collapsed": false,
    "run_control": {
     "frozen": false,
     "read_only": false
    }
   },
   "outputs": [
    {
     "name": "stdout",
     "output_type": "stream",
     "text": [
      "Normalized confusion matrix\n"
     ]
    },
    {
     "data": {
      "image/png": "[encoded data removed]",
      "text/plain": [
       "<matplotlib.figure.Figure at 0x27984f7c18>"
      ]
     },
     "metadata": {},
     "output_type": "display_data"
    }
   ],
   "source": [
    "# plotting normalized confusion matrix\n",
    "plt.figure()\n",
    "plot_confusion_matrix(cnf_matrix, classes=le.classes_, normalize=True, title='Normalized confusion matrix')\n",
    "plt.show() "
   ]
  },
  {
   "cell_type": "markdown",
   "metadata": {
    "run_control": {
     "frozen": false,
     "read_only": false
    }
   },
   "source": [
    "** The flowers **\n",
    "\n",
    "You can see in the confusion matrix that the iris-versicolor and iris-virginica are seen by classifier similar (using only sepal length and width). If you look at the picture, sepal (i.e., the endings) length and width of versicolor and virginia are indeed similar.\n",
    "\n",
    "<img src=\"imgs/iris_types.jpg\" width=\"800\">\n"
   ]
  },
  {
   "cell_type": "markdown",
   "metadata": {
    "run_control": {
     "frozen": false,
     "read_only": false
    }
   },
   "source": [
    "### (Naive) tuning of hyperparameters\n",
    "Initially, we set C=1, but was that right choice? Let's find out."
   ]
  },
  {
   "cell_type": "code",
   "execution_count": 51,
   "metadata": {
    "ExecuteTime": {
     "end_time": "2017-03-17T12:03:04.298461",
     "start_time": "2017-03-17T12:03:04.287431"
    },
    "collapsed": false,
    "run_control": {
     "frozen": false,
     "read_only": false
    }
   },
   "outputs": [
    {
     "name": "stdout",
     "output_type": "stream",
     "text": [
      "Accuracy is (C=0.01)  0.34375\n",
      "Accuracy is (C=0.1)  0.75\n",
      "Accuracy is (C=1)  0.75\n",
      "Accuracy is (C=10)  0.75\n"
     ]
    }
   ],
   "source": [
    "svc001 = svm.SVC(kernel='linear', C=0.01) \n",
    "svc001.fit(X_train, y_train)\n",
    "print(\"Accuracy is (C=0.01) \", svc001.score(X_val, y_val))\n",
    "\n",
    "svc01 = svm.SVC(kernel='linear', C=0.1) \n",
    "svc01.fit(X_train, y_train)\n",
    "print(\"Accuracy is (C=0.1) \", svc01.score(X_val, y_val))\n",
    "\n",
    "print(\"Accuracy is (C=1) \", svc.score(X_val, y_val))\n",
    "\n",
    "svc10 = svm.SVC(kernel='linear', C=10) \n",
    "svc10.fit(X_train, y_train)\n",
    "print(\"Accuracy is (C=10) \", svc10.score(X_val, y_val))\n"
   ]
  },
  {
   "cell_type": "markdown",
   "metadata": {
    "run_control": {
     "frozen": false,
     "read_only": false
    }
   },
   "source": [
    "### Evaluation of test set"
   ]
  },
  {
   "cell_type": "code",
   "execution_count": 52,
   "metadata": {
    "ExecuteTime": {
     "end_time": "2017-03-17T12:03:52.731204",
     "start_time": "2017-03-17T12:03:52.727162"
    },
    "collapsed": false,
    "run_control": {
     "frozen": false,
     "read_only": false
    }
   },
   "outputs": [
    {
     "name": "stdout",
     "output_type": "stream",
     "text": [
      "The accuracy to be reported is 0.80\n"
     ]
    }
   ],
   "source": [
    "#The best model is with e.g. C=1. We claim in this perform, linear SVC performs the best. Is that true? Let's verify on the unseen data set. You ALWAYS perform this step only once!\n",
    "print(\"The accuracy to be reported is %.2f\" % svc.score(X_test, y_test)) #This is what is going to be the result of the SVC."
   ]
  },
  {
   "cell_type": "markdown",
   "metadata": {
    "run_control": {
     "frozen": false,
     "read_only": false
    }
   },
   "source": [
    "## Evaluation using k-fold cross-validation\n",
    "\n",
    "Data should be split into training, validation, and testing. This reduces data with which a model can be trained quite a lot. Solution? Cross-validation. \n",
    "\n",
    "Test set is still and ALWAYS needed, however, training and validation sets can combined.\n",
    "\n",
    "**How it works?**\n",
    "\n",
    "<img src=\"imgs/cross-validation.jpg\" align=\"left\">"
   ]
  },
  {
   "cell_type": "code",
   "execution_count": 55,
   "metadata": {
    "ExecuteTime": {
     "end_time": "2017-03-17T12:10:10.210415",
     "start_time": "2017-03-17T12:10:10.161284"
    },
    "collapsed": false,
    "run_control": {
     "frozen": false,
     "read_only": false
    }
   },
   "outputs": [
    {
     "name": "stdout",
     "output_type": "stream",
     "text": [
      "Precision: 0.82 (+/- 0.10)\n",
      "[ 0.81292517  0.82692308  0.89349112  0.74714286]\n",
      "Recall: 0.79 (+/- 0.09)\n",
      "[ 0.78571429  0.80769231  0.84615385  0.72      ]\n",
      "Accuracy: 0.79 (+/- 0.09)\n",
      "[ 0.78571429  0.80769231  0.84615385  0.72      ]\n"
     ]
    }
   ],
   "source": [
    "#aplication of cross-validation.\n",
    "from sklearn.model_selection import cross_val_score #cross_val_score = KFold without shuffeling. The results are deterministic.\n",
    "from sklearn import metrics\n",
    "\n",
    "precisions = cross_val_score(svm.SVC(C=1), X_train_val, y_train_val, cv=4, scoring=\"precision_weighted\") \n",
    "recalls = cross_val_score(svm.SVC(C=1), X_train_val, y_train_val, cv=4, scoring=\"recall_weighted\") \n",
    "accuracies = cross_val_score(svm.SVC(C=1), X_train_val, y_train_val, cv=4, scoring=\"accuracy\") \n",
    "#cv = 4: 4-fold cross-validation. \n",
    "#Reminder: some of the other cross validation mechanisms also contains random_state. \n",
    "#scoring: _weighted is a suffix defining how to avarage the scores needs. More in at http://scikit-learn.org/stable/modules/model_evaluation.html#multiclass-and-multilabel-classification and  http://rushdishams.blogspot.nl/2011/08/micro-and-macro-average-of-precision.html\n",
    "\n",
    "print(\"Precision: %0.2f (+/- %0.2f)\" % (precisions.mean(), precisions.std() * 2)) \n",
    "print(precisions)\n",
    "\n",
    "\n",
    "print(\"Recall: %0.2f (+/- %0.2f)\" % (recalls.mean(), recalls.std() * 2)) \n",
    "print(recalls)\n",
    "\n",
    "\n",
    "print(\"Accuracy: %0.2f (+/- %0.2f)\" % (accuracies.mean(), accuracies.std() * 2)) \n",
    "print(accuracies)"
   ]
  },
  {
   "cell_type": "markdown",
   "metadata": {
    "run_control": {
     "frozen": false,
     "read_only": false
    }
   },
   "source": [
    "### Tuning hyper-parameters using Grid Search"
   ]
  },
  {
   "cell_type": "code",
   "execution_count": 62,
   "metadata": {
    "ExecuteTime": {
     "end_time": "2017-03-17T12:20:02.263121",
     "start_time": "2017-03-17T12:20:01.823966"
    },
    "collapsed": false,
    "run_control": {
     "frozen": false,
     "read_only": false
    },
    "scrolled": false
   },
   "outputs": [
    {
     "name": "stdout",
     "output_type": "stream",
     "text": [
      "# Tuning hyper-parameters for precision_weighted \n",
      "\n"
     ]
    },
    {
     "name": "stderr",
     "output_type": "stream",
     "text": [
      "C:\\Users\\azika\\AppData\\Local\\Continuum\\Anaconda3\\lib\\site-packages\\sklearn\\metrics\\classification.py:1113: UndefinedMetricWarning: Precision is ill-defined and being set to 0.0 in labels with no predicted samples.\n",
      "  'precision', 'predicted', average, warn_for)\n",
      "C:\\Users\\azika\\AppData\\Local\\Continuum\\Anaconda3\\lib\\site-packages\\sklearn\\metrics\\classification.py:1113: UndefinedMetricWarning: Precision is ill-defined and being set to 0.0 in labels with no predicted samples.\n",
      "  'precision', 'predicted', average, warn_for)\n",
      "C:\\Users\\azika\\AppData\\Local\\Continuum\\Anaconda3\\lib\\site-packages\\sklearn\\metrics\\classification.py:1113: UndefinedMetricWarning: Precision is ill-defined and being set to 0.0 in labels with no predicted samples.\n",
      "  'precision', 'predicted', average, warn_for)\n",
      "C:\\Users\\azika\\AppData\\Local\\Continuum\\Anaconda3\\lib\\site-packages\\sklearn\\metrics\\classification.py:1113: UndefinedMetricWarning: Precision is ill-defined and being set to 0.0 in labels with no predicted samples.\n",
      "  'precision', 'predicted', average, warn_for)\n",
      "C:\\Users\\azika\\AppData\\Local\\Continuum\\Anaconda3\\lib\\site-packages\\sklearn\\metrics\\classification.py:1113: UndefinedMetricWarning: Precision is ill-defined and being set to 0.0 in labels with no predicted samples.\n",
      "  'precision', 'predicted', average, warn_for)\n",
      "C:\\Users\\azika\\AppData\\Local\\Continuum\\Anaconda3\\lib\\site-packages\\sklearn\\metrics\\classification.py:1113: UndefinedMetricWarning: Precision is ill-defined and being set to 0.0 in labels with no predicted samples.\n",
      "  'precision', 'predicted', average, warn_for)\n",
      "C:\\Users\\azika\\AppData\\Local\\Continuum\\Anaconda3\\lib\\site-packages\\sklearn\\metrics\\classification.py:1113: UndefinedMetricWarning: Precision is ill-defined and being set to 0.0 in labels with no predicted samples.\n",
      "  'precision', 'predicted', average, warn_for)\n",
      "C:\\Users\\azika\\AppData\\Local\\Continuum\\Anaconda3\\lib\\site-packages\\sklearn\\metrics\\classification.py:1113: UndefinedMetricWarning: Precision is ill-defined and being set to 0.0 in labels with no predicted samples.\n",
      "  'precision', 'predicted', average, warn_for)\n",
      "C:\\Users\\azika\\AppData\\Local\\Continuum\\Anaconda3\\lib\\site-packages\\sklearn\\metrics\\classification.py:1113: UndefinedMetricWarning: Precision is ill-defined and being set to 0.0 in labels with no predicted samples.\n",
      "  'precision', 'predicted', average, warn_for)\n",
      "C:\\Users\\azika\\AppData\\Local\\Continuum\\Anaconda3\\lib\\site-packages\\sklearn\\metrics\\classification.py:1113: UndefinedMetricWarning: Precision is ill-defined and being set to 0.0 in labels with no predicted samples.\n",
      "  'precision', 'predicted', average, warn_for)\n",
      "C:\\Users\\azika\\AppData\\Local\\Continuum\\Anaconda3\\lib\\site-packages\\sklearn\\metrics\\classification.py:1113: UndefinedMetricWarning: Precision is ill-defined and being set to 0.0 in labels with no predicted samples.\n",
      "  'precision', 'predicted', average, warn_for)\n",
      "C:\\Users\\azika\\AppData\\Local\\Continuum\\Anaconda3\\lib\\site-packages\\sklearn\\metrics\\classification.py:1113: UndefinedMetricWarning: Precision is ill-defined and being set to 0.0 in labels with no predicted samples.\n",
      "  'precision', 'predicted', average, warn_for)\n",
      "C:\\Users\\azika\\AppData\\Local\\Continuum\\Anaconda3\\lib\\site-packages\\sklearn\\metrics\\classification.py:1113: UndefinedMetricWarning: Precision is ill-defined and being set to 0.0 in labels with no predicted samples.\n",
      "  'precision', 'predicted', average, warn_for)\n",
      "C:\\Users\\azika\\AppData\\Local\\Continuum\\Anaconda3\\lib\\site-packages\\sklearn\\metrics\\classification.py:1113: UndefinedMetricWarning: Precision is ill-defined and being set to 0.0 in labels with no predicted samples.\n",
      "  'precision', 'predicted', average, warn_for)\n"
     ]
    },
    {
     "name": "stdout",
     "output_type": "stream",
     "text": [
      "Grid scores on development set (with 4-fold cross-validation):\n",
      "0.168 (+/-0.126) for {'gamma': 0.001, 'kernel': 'rbf', 'C': 1}\n",
      "0.168 (+/-0.126) for {'gamma': 0.0001, 'kernel': 'rbf', 'C': 1}\n",
      "0.635 (+/-0.300) for {'gamma': 0.001, 'kernel': 'rbf', 'C': 10}\n",
      "0.168 (+/-0.126) for {'gamma': 0.0001, 'kernel': 'rbf', 'C': 10}\n",
      "0.815 (+/-0.173) for {'gamma': 0.001, 'kernel': 'rbf', 'C': 100}\n",
      "0.635 (+/-0.300) for {'gamma': 0.0001, 'kernel': 'rbf', 'C': 100}\n",
      "0.824 (+/-0.194) for {'gamma': 0.001, 'kernel': 'rbf', 'C': 1000}\n",
      "0.815 (+/-0.173) for {'gamma': 0.0001, 'kernel': 'rbf', 'C': 1000}\n",
      "0.817 (+/-0.230) for {'kernel': 'linear', 'C': 0.1}\n",
      "0.817 (+/-0.230) for {'kernel': 'linear', 'C': 0.1}\n",
      "0.824 (+/-0.194) for {'kernel': 'linear', 'C': 1}\n",
      "0.790 (+/-0.263) for {'kernel': 'linear', 'C': 10}\n",
      "0.804 (+/-0.250) for {'kernel': 'linear', 'C': 100}\n",
      "0.804 (+/-0.250) for {'kernel': 'linear', 'C': 1000}\n",
      "0.804 (+/-0.250) for {'kernel': 'linear', 'C': 10000}\n",
      "\n",
      "Best parameters set found on development set: {'gamma': 0.001, 'kernel': 'rbf', 'C': 1000}\n",
      "----------------------------------------------------\n",
      "\n",
      "Evaluating the test set given the best parameters:\n",
      "\n",
      "                 precision    recall  f1-score   support\n",
      "\n",
      "    Iris-setosa       1.00      1.00      1.00        19\n",
      "Iris-versicolor       0.70      0.54      0.61        13\n",
      " Iris-virginica       0.62      0.77      0.69        13\n",
      "\n",
      "    avg / total       0.81      0.80      0.80        45\n",
      " \n",
      "\n"
     ]
    }
   ],
   "source": [
    "from sklearn.model_selection import GridSearchCV\n",
    "from sklearn.metrics import classification_report\n",
    "\n",
    "\n",
    "# Set the parameters by cross-validation\n",
    "tuned_parameters = [{'kernel': ['rbf'], 'gamma': [1e-3, 1e-4], 'C': [1, 10, 100, 1000]}, #rbf -> Radius based Kernel. One of the kernel's used to separate non-linear patterns\n",
    "                    {'kernel': ['linear'], 'C': [0.1, 00.1, 1, 10, 100, 1000,10000]}] \n",
    "\n",
    "scores = ['precision_weighted', 'recall_weighted', 'accuracy']\n",
    "score = scores[0] #change this manually (having this in for loop would be better. we keep it like this for learning purposes.)\n",
    "print(\"# Tuning hyper-parameters for %s \\n\" % score)\n",
    "\n",
    "clf = GridSearchCV(estimator = svm.SVC(), param_grid = tuned_parameters, cv = 4, scoring = score) \n",
    "clf.fit(X_train, y_train)\n",
    "\n",
    "means = clf.cv_results_['mean_test_score']\n",
    "stds = clf.cv_results_['std_test_score']\n",
    "\n",
    "print(\"Grid scores on development set (with 4-fold cross-validation):\")\n",
    "\n",
    "# what does zip do?\n",
    "list(zip([0,1], ['zero','one']))\n",
    "#>> [(0, 'zero'), (1, 'one')]\n",
    "\n",
    "for mean, std, params in zip(means, stds, clf.cv_results_['params']):\n",
    "    print(\"%0.3f (+/-%0.03f) for %r\" % (mean, std * 2, params))\n",
    "    \n",
    "print(\"\\nBest parameters set found on development set: %s\" % clf.best_params_)\n",
    "print(\"----------------------------------------------------\\n\")\n",
    "\n",
    "print(\"Evaluating the test set given the best parameters:\\n\")\n",
    "y_true, y_pred = y_test, clf.predict(X_test)\n",
    "print(classification_report(y_true, y_pred, target_names=le.classes_), \"\\n\") \n",
    "# NOTE: The support is the number of occurrences of each class in y_true.\n",
    "\n",
    "# Note the problem is too easy: the hyperparameter plateau is too flat and the\n",
    "# output model is the same for precision and recall with ties in quality."
   ]
  },
  {
   "cell_type": "markdown",
   "metadata": {
    "run_control": {
     "frozen": false,
     "read_only": false
    }
   },
   "source": [
    "### Evaluation of the test set"
   ]
  },
  {
   "cell_type": "code",
   "execution_count": 60,
   "metadata": {
    "ExecuteTime": {
     "end_time": "2017-03-17T12:17:58.237463",
     "start_time": "2017-03-17T12:17:58.230463"
    },
    "collapsed": false,
    "run_control": {
     "frozen": false,
     "read_only": false
    }
   },
   "outputs": [
    {
     "name": "stdout",
     "output_type": "stream",
     "text": [
      "The accuracy to be reported is 0.800\n",
      "The recall to be reported is 0.800\n",
      "The precision to be reported is 0.805\n"
     ]
    }
   ],
   "source": [
    "#The best model is for XXX. \n",
    "from sklearn.metrics import precision_score, recall_score, accuracy_score\n",
    "y_pred = clf.predict(X_test)\n",
    "print(\"The accuracy to be reported is %.3f\" % accuracy_score(y_test, y_pred)) \n",
    "print(\"The recall to be reported is %.3f\" % recall_score( y_test, y_pred, average ='weighted')) \n",
    "print(\"The precision to be reported is %.3f\" % precision_score( y_test, y_pred, average ='weighted')) "
   ]
  },
  {
   "cell_type": "code",
   "execution_count": 61,
   "metadata": {
    "ExecuteTime": {
     "end_time": "2017-03-17T12:18:18.336613",
     "start_time": "2017-03-17T12:18:17.540491"
    },
    "collapsed": false,
    "run_control": {
     "frozen": false,
     "read_only": false
    }
   },
   "outputs": [
    {
     "data": {
      "image/png": "[encoded data removed]",
      "text/plain": [
       "<matplotlib.figure.Figure at 0x2797c18fd0>"
      ]
     },
     "metadata": {},
     "output_type": "display_data"
    }
   ],
   "source": [
    "#visualization of SVC with RBF kernel (!with different hyperparameters parameters!)\n",
    "rbf_svc = svm.SVC(kernel='rbf', gamma=0.7, C=1).fit(X, y)\n",
    "\n",
    "Z = rbf_svc.predict(np.c_[xx.ravel(), yy.ravel()])\n",
    "# Put the result into a color plot\n",
    "Z = Z.reshape(xx.shape) \n",
    "plt.contourf(xx, yy, Z, cmap=plt.cm.coolwarm, alpha=0.8)\n",
    "\n",
    "plt.scatter(X['sep_len'], X['sep_width'], c=y, cmap=plt.cm.coolwarm)\n",
    "plt.xlabel('Sepal length')\n",
    "plt.ylabel('Sepal width')\n",
    "plt.title('SVC with RBF kernel')\n",
    "plt.show()"
   ]
  },
  {
   "cell_type": "markdown",
   "metadata": {
    "run_control": {
     "frozen": false,
     "read_only": false
    }
   },
   "source": [
    "# Beers and girls :)"
   ]
  },
  {
   "cell_type": "markdown",
   "metadata": {
    "run_control": {
     "frozen": false,
     "read_only": false
    }
   },
   "source": [
    "<img src=\"imgs/beers-girls.jpg\" width=\"800\">"
   ]
  }
 ],
 "metadata": {
  "anaconda-cloud": {},
  "hide_input": false,
  "kernelspec": {
   "display_name": "Python [conda root]",
   "language": "python",
   "name": "conda-root-py"
  },
  "language_info": {
   "codemirror_mode": {
    "name": "ipython",
    "version": 3
   },
   "file_extension": ".py",
   "mimetype": "text/x-python",
   "name": "python",
   "nbconvert_exporter": "python",
   "pygments_lexer": "ipython3",
   "version": "3.5.2"
  },
  "nbTranslate": {
   "displayLangs": [
    "*"
   ],
   "hotkey": "alt-t",
   "langInMainMenu": true,
   "sourceLang": "en",
   "targetLang": "fr",
   "useGoogleTranslate": true
  },
  "toc": {
   "colors": {
    "hover_highlight": "#DAA520",
    "running_highlight": "#FF0000",
    "selected_highlight": "#FFD700"
   },
   "moveMenuLeft": true,
   "nav_menu": {
    "height": "12px",
    "width": "252px"
   },
   "navigate_menu": true,
   "number_sections": true,
   "sideBar": true,
   "threshold": 4,
   "toc_cell": false,
   "toc_section_display": "block",
   "toc_window_display": false
  }
 },
 "nbformat": 4,
 "nbformat_minor": 1
}
